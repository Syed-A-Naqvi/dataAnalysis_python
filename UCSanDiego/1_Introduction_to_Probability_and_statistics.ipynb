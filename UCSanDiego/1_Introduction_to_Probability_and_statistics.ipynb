{
 "cells": [
  {
   "cell_type": "code",
   "execution_count": null,
   "id": "0",
   "metadata": {},
   "outputs": [],
   "source": [
    "import numpy as np\n",
    "import matplotlib.pyplot as plt"
   ]
  },
  {
   "cell_type": "markdown",
   "id": "1",
   "metadata": {},
   "source": [
    "# 1.2 What is Probability Theory\n",
    "\n",
    "**Probability Theory** is a mathematical framework for computing the probability of complex events, assuming we know the probabilites of the base events.\n",
    "\n",
    "For example:\n",
    "\n",
    "- Given P(X=H) = 0.5 and P(X=T) = 0.5 (the base event probabilities), what is the probability of P(X={HTTH}) (the complex event) assuming order matters?"
   ]
  },
  {
   "cell_type": "markdown",
   "id": "2",
   "metadata": {},
   "source": [
    "Suppose we let the $i^{th}$ event $x_i = 1$ for `heads` and $x_i = -1$ for `tails`.\n",
    "\n",
    "We observe that for $S_{10000} = x_1 + x_2 + \\dots + x_{10000}$, $S_{10000} \\approx 0$"
   ]
  },
  {
   "cell_type": "code",
   "execution_count": null,
   "id": "3",
   "metadata": {},
   "outputs": [],
   "source": [
    "# we can generate k=10000 random coin flips represented by either 1 or -1 and sum the results to observe how close the answer is to 0\n",
    "# repeating this experiment n=100 times allows us to view the distribution of experiment results\n",
    "n=100\n",
    "def generate_flips(k, n):\n",
    "    # np.random.rand(k,n) creates a kxn matrix of random values in [0,1) sampled from a uniform distribution\n",
    "    X = 2 * (np.random.rand(k,n) > 0.5) - 1\n",
    "    S = np.sum(X, axis=0) # collapses the rows -> S is 1xn\n",
    "    return S"
   ]
  },
  {
   "cell_type": "markdown",
   "id": "4",
   "metadata": {},
   "source": [
    "Using probability theory, we can show that $P(|S_k| \\geq 4\\sqrt{k}) < 0.000002\\%$ as observable below."
   ]
  },
  {
   "cell_type": "code",
   "execution_count": null,
   "id": "5",
   "metadata": {},
   "outputs": [],
   "source": [
    "f, axs = plt.subplots(1,3)\n",
    "f.set_size_inches(21,4)\n",
    "ks = [100, 1000, 10000]\n",
    "for i in range(0,3):\n",
    "    ax=axs[i]\n",
    "    k = ks[i]\n",
    "    ax.hist(generate_flips(k=ks[i], n=n), bins=10)\n",
    "    ax.set_xlim(-k, k)\n",
    "    ax.grid()\n",
    "    d = 4*np.sqrt(k)\n",
    "    ax.plot([-d,-d], [0,30], 'r')\n",
    "    ax.plot([d,d], [0,30], 'r')\n",
    "    ax.set_xlabel('sum')\n",
    "    ax.set_ylabel('frequency')\n",
    "    ax.set_title(f'Summing k={k} Coin Flips Over n={n} Experiments')"
   ]
  },
  {
   "cell_type": "markdown",
   "id": "6",
   "metadata": {},
   "source": [
    "Note, as $k \\rightarrow \\infty$, $\\frac{4\\sqrt{k}}{k} = \\frac{4}{\\sqrt{k}} \\rightarrow 0$ and since $|S_k| < 4\\sqrt{k}$ with a probability of $P > 99.999998\\%$, it follows that as $k \\rightarrow \\infty$, $\\frac{|S_k|}{k} \\rightarrow 0$."
   ]
  },
  {
   "cell_type": "markdown",
   "id": "7",
   "metadata": {},
   "source": [
    "The formal mathematical structure provided by the branch of Probability Theory allows us to determine the probabilities of complex events more precisely and with less computational cost than the *Monte-Carlo* simulations/experiments above. "
   ]
  }
 ],
 "metadata": {
  "kernelspec": {
   "display_name": "venv-ml",
   "language": "python",
   "name": "python3"
  },
  "language_info": {
   "codemirror_mode": {
    "name": "ipython",
    "version": 3
   },
   "file_extension": ".py",
   "mimetype": "text/x-python",
   "name": "python",
   "nbconvert_exporter": "python",
   "pygments_lexer": "ipython3",
   "version": "3.13.5"
  }
 },
 "nbformat": 4,
 "nbformat_minor": 5
}
