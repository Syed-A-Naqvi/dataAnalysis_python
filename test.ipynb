{
 "cells": [
  {
   "cell_type": "code",
   "execution_count": null,
   "metadata": {},
   "outputs": [],
   "source": [
    "import numpy as np\n",
    "import matplotlib.pyplot as plt\n",
    "import pandas as pd"
   ]
  },
  {
   "cell_type": "code",
   "execution_count": null,
   "metadata": {},
   "outputs": [],
   "source": [
    "import random\n",
    "\n",
    "def generate_counts(k=1000, n=1000):\n",
    "    X = 2 * (np.random.rand(k,n)>0.5) - 1\n",
    "    S = np.sum(X, axis=0)\n",
    "    return S\n",
    "\n",
    "k=1000\n",
    "n=100\n",
    "\n",
    "plt.hist(generate_counts(k=k, n=n))\n",
    "plt.grid()\n",
    "plt.xlim([-k, k])\n",
    "plt.xlabel('sum')\n",
    "plt.ylabel('count')\n",
    "plt.title(f'Histogram of Coin Flip Sums when Flipping a Fair Coin {k} times.')\n",
    "\n"
   ]
  }
 ],
 "metadata": {
  "kernelspec": {
   "display_name": "venv-ml",
   "language": "python",
   "name": "python3"
  },
  "language_info": {
   "codemirror_mode": {
    "name": "ipython",
    "version": 3
   },
   "file_extension": ".py",
   "mimetype": "text/x-python",
   "name": "python",
   "nbconvert_exporter": "python",
   "pygments_lexer": "ipython3",
   "version": "3.13.5"
  }
 },
 "nbformat": 4,
 "nbformat_minor": 2
}
