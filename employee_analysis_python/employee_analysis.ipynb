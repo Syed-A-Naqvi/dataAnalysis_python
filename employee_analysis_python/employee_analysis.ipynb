{
 "cells": [
  {
   "cell_type": "code",
   "execution_count": 9,
   "metadata": {},
   "outputs": [
    {
     "data": {
      "text/plain": [
       "[['ID', 'Age', 'is_part_time', 'salary'],\n",
       " [0, 23, True, 25000],\n",
       " [1, 24, False, 35000],\n",
       " [2, 25, False, 40000],\n",
       " [3, 26, True, 20500]]"
      ]
     },
     "execution_count": 9,
     "metadata": {},
     "output_type": "execute_result"
    }
   ],
   "source": [
    "#1. Create 'd', a nested list that contains 5 other lists. The first list should contain the four string values: ID, Age, is_part_time, salary.\n",
    "#   The next 4 lists should contain date of types: int, int, boolean, int. For example [3, 35, False, 72000].\n",
    "#   Populate these 4 remaining lists with your own made-up data.\n",
    "\n",
    "d = [ ['ID','Age','is_part_time','salary'], [0,23,True,25000], [1,24,False,35000], [2,25,False,40000], [3,26,True,20500] ]\n",
    "\n",
    "d "
   ]
  },
  {
   "cell_type": "code",
   "execution_count": 10,
   "metadata": {},
   "outputs": [
    {
     "data": {
      "text/plain": [
       "'/home/syedarhamn/School/Scientific Data Analysis/Submissions/worksheet3'"
      ]
     },
     "execution_count": 10,
     "metadata": {},
     "output_type": "execute_result"
    }
   ],
   "source": [
    "#2. Print your current working directory to the console.\n",
    "\n",
    "import os\n",
    "\n",
    "os.getcwd()"
   ]
  },
  {
   "cell_type": "code",
   "execution_count": 11,
   "metadata": {},
   "outputs": [],
   "source": [
    "#3. Using Python's csv module, write 'd' to disk as a csv file. Use the method writerows() to write the nested list structure.\n",
    "\n",
    "import csv\n",
    "\n",
    "with open('employees.csv', mode='w', newline='') as emp_file:\n",
    "    write = csv.writer(emp_file)\n",
    "    write.writerow(['ID','Age','is_part_time','salary'])\n",
    "    write.writerow([0,23,True,25000])\n",
    "    write.writerow([1,24,False,35000])\n",
    "    write.writerow([2,25,False,40000])\n",
    "    write.writerow([3,26,True,20500])\n",
    "\n",
    "emp_file.close()"
   ]
  },
  {
   "cell_type": "code",
   "execution_count": 15,
   "metadata": {},
   "outputs": [
    {
     "name": "stdout",
     "output_type": "stream",
     "text": [
      "   ID  Age  is_part_time  salary\n",
      "0   0   23          True   25000\n",
      "1   1   24         False   35000\n",
      "2   2   25         False   40000\n",
      "3   3   26          True   20500\n"
     ]
    }
   ],
   "source": [
    "#4. Using pandas module, load the same csv file into 'd2', and print d2.\n",
    "\n",
    "import pandas as pd\n",
    "\n",
    "d2 = pd.read_csv('employees.csv')\n",
    "print(d2)"
   ]
  },
  {
   "cell_type": "code",
   "execution_count": 21,
   "metadata": {},
   "outputs": [
    {
     "data": {
      "text/plain": [
       "a    0\n",
       "b    1\n",
       "c    2\n",
       "d    3\n",
       "e    4\n",
       "dtype: int64"
      ]
     },
     "execution_count": 21,
     "metadata": {},
     "output_type": "execute_result"
    }
   ],
   "source": [
    "#5. Create a Series 'd' containing 5 values, 0 through 4 inclusive, in increments of 1, with indexes 'a' through 'e', inclusive.\n",
    "import numpy as np\n",
    "\n",
    "d = pd.Series([0,1,2,3,4], index=['a','b','c','d','e'])\n",
    "d"
   ]
  },
  {
   "cell_type": "code",
   "execution_count": 22,
   "metadata": {},
   "outputs": [
    {
     "data": {
      "text/plain": [
       "a    5\n",
       "b    6\n",
       "c    7\n",
       "d    8\n",
       "z    9\n",
       "dtype: int64"
      ]
     },
     "execution_count": 22,
     "metadata": {},
     "output_type": "execute_result"
    }
   ],
   "source": [
    "#6. Create a 'd2' containing 5 values, 5 through 9 inclusive, with indexes: a,b,c,d,z.\n",
    "d2 = pd.Series([5,6,7,8,9], index=['a','b','c','d','z'])\n",
    "d2"
   ]
  },
  {
   "cell_type": "code",
   "execution_count": 23,
   "metadata": {},
   "outputs": [
    {
     "name": "stdout",
     "output_type": "stream",
     "text": [
      "a     5.0\n",
      "b     7.0\n",
      "c     9.0\n",
      "d    11.0\n",
      "e     NaN\n",
      "z     NaN\n",
      "dtype: float64\n"
     ]
    }
   ],
   "source": [
    "#7. Arithmetically add d and d2, save in 'd3', and print d3 to console. You should see two NaN values at the end of d3.\n",
    "d3 = d + d2\n",
    "print(d3)"
   ]
  },
  {
   "cell_type": "code",
   "execution_count": 1,
   "metadata": {},
   "outputs": [
    {
     "ename": "NameError",
     "evalue": "name 'd3' is not defined",
     "output_type": "error",
     "traceback": [
      "\u001b[0;31m---------------------------------------------------------------------------\u001b[0m",
      "\u001b[0;31mNameError\u001b[0m                                 Traceback (most recent call last)",
      "\u001b[0;32m/tmp/ipykernel_14110/2749385291.py\u001b[0m in \u001b[0;36m<module>\u001b[0;34m\u001b[0m\n\u001b[1;32m      1\u001b[0m \u001b[0;31m#8. Using a Panda's method, identify which values in d3 contain NaN. Using that information, print only those NaN values in d3 to console.\u001b[0m\u001b[0;34m\u001b[0m\u001b[0;34m\u001b[0m\u001b[0m\n\u001b[1;32m      2\u001b[0m \u001b[0;34m\u001b[0m\u001b[0m\n\u001b[0;32m----> 3\u001b[0;31m \u001b[0mprint\u001b[0m\u001b[0;34m(\u001b[0m\u001b[0md3\u001b[0m\u001b[0;34m[\u001b[0m\u001b[0md3\u001b[0m\u001b[0;34m.\u001b[0m\u001b[0misna\u001b[0m\u001b[0;34m(\u001b[0m\u001b[0;34m)\u001b[0m\u001b[0;34m]\u001b[0m\u001b[0;34m)\u001b[0m\u001b[0;34m\u001b[0m\u001b[0;34m\u001b[0m\u001b[0m\n\u001b[0m\u001b[1;32m      4\u001b[0m \u001b[0mtype\u001b[0m\u001b[0;34m(\u001b[0m\u001b[0md3\u001b[0m\u001b[0;34m.\u001b[0m\u001b[0misna\u001b[0m\u001b[0;34m(\u001b[0m\u001b[0;34m)\u001b[0m\u001b[0;34m)\u001b[0m\u001b[0;34m\u001b[0m\u001b[0;34m\u001b[0m\u001b[0m\n",
      "\u001b[0;31mNameError\u001b[0m: name 'd3' is not defined"
     ]
    }
   ],
   "source": [
    "#8. Using a Panda's method, identify which values in d3 contain NaN. Using that information, print only those NaN values in d3 to console. \n",
    "\n",
    "print(d3[d3.isna()])\n"
   ]
  },
  {
   "cell_type": "code",
   "execution_count": 34,
   "metadata": {},
   "outputs": [
    {
     "name": "stdout",
     "output_type": "stream",
     "text": [
      "     A    B     C          D\n",
      "0  0.0  0.0  foo1 2009-01-01\n",
      "1  1.0  1.0  foo2 2009-01-02\n",
      "2  2.0  0.0  foo3 2009-01-05\n",
      "3  3.0  1.0  foo4 2009-01-06\n",
      "4  4.0  0.0  foo5 2009-01-07\n"
     ]
    }
   ],
   "source": [
    "#9. Pandas come with a few built-in DataFrame objects. Assign the following built-in DataFrame to variable 'd4': pd.util.testing.makeMixedDataFrame().\n",
    "#   Print d4 to console.\n",
    "\n",
    "d4 = pd.util.testing.makeMixedDataFrame()\n",
    "print(d4)"
   ]
  },
  {
   "cell_type": "code",
   "execution_count": 38,
   "metadata": {},
   "outputs": [
    {
     "name": "stdout",
     "output_type": "stream",
     "text": [
      "     A    B     C          D  greater\n",
      "0  0.0  0.0  foo1 2009-01-01    False\n",
      "1  1.0  1.0  foo2 2009-01-02    False\n",
      "2  2.0  0.0  foo3 2009-01-05    False\n",
      "3  3.0  1.0  foo4 2009-01-06     True\n",
      "4  4.0  0.0  foo5 2009-01-07     True\n"
     ]
    }
   ],
   "source": [
    "#10. Determine which elements in column 'A' are greater than 2, and store the result in a new column in d4 called 'greater'. Print d4 to console.\n",
    "\n",
    "d4['greater'] = d4['A'] > 2\n",
    "print(d4)"
   ]
  }
 ],
 "metadata": {
  "kernelspec": {
   "display_name": "Python 3.9.13 ('base')",
   "language": "python",
   "name": "python3"
  },
  "language_info": {
   "codemirror_mode": {
    "name": "ipython",
    "version": 3
   },
   "file_extension": ".py",
   "mimetype": "text/x-python",
   "name": "python",
   "nbconvert_exporter": "python",
   "pygments_lexer": "ipython3",
   "version": "3.9.13"
  },
  "orig_nbformat": 4,
  "vscode": {
   "interpreter": {
    "hash": "766c8827b8375263fe3be52fd6025d00a0ac479ca50e27c7d665aca8fac8b122"
   }
  }
 },
 "nbformat": 4,
 "nbformat_minor": 2
}
