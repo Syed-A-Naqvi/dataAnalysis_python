{
 "cells": [
  {
   "cell_type": "code",
   "execution_count": null,
   "metadata": {},
   "outputs": [],
   "source": [
    "import pandas as pd\n",
    "import numpy as np\n",
    "\n",
    "d = pd.DataFrame({'Mon': [68, 89, np.nan], 'Wed': [71, 93, 48], 'Fri': [66, 82, 104],\n",
    "'Tue': [75, 97, 43], 'Thu': [62, np.nan, 89]}, index = [\"day1\",\"day2\",\"day3\"]).T\n",
    "d"
   ]
  },
  {
   "cell_type": "code",
   "execution_count": null,
   "metadata": {},
   "outputs": [],
   "source": [
    "#1. Reindex 'd' so row indices read chronologically, and include Sat and Sun. That is, \"Mon\", \"Tue\", ..., \"Sat', \"Sun\", and the\n",
    "#   columns indices read day3, day2, day1. Print d to the console.\n",
    "\n",
    "d = d.reindex(index=['Mon','Tue','Wed','Thu','Fri','Sat','Sun'], columns=['day3','day2','day1'])\n",
    "print(d)"
   ]
  },
  {
   "cell_type": "code",
   "execution_count": null,
   "metadata": {},
   "outputs": [],
   "source": [
    "#2. Print to the console the following elements: Tuesday and Thursday, for days3 and days2.\n",
    "\n",
    "print( d.loc[ ['Tue','Thu'], ['day3','day2'] ] )"
   ]
  },
  {
   "cell_type": "code",
   "execution_count": null,
   "metadata": {},
   "outputs": [],
   "source": [
    "#3. Using a single line of code, print the mean temperature for each day of the week to the console, rounding values to 3 decimal places.\n",
    "\n",
    "print( round(d.mean(axis=1), 3 ) )\n"
   ]
  },
  {
   "cell_type": "code",
   "execution_count": null,
   "metadata": {},
   "outputs": [],
   "source": [
    "# The next two questions will use GroupBy operations, and will use the\n",
    "# following CSV - https://vincentarelbundock.github.io/Rdatasets/csv/ggplot2/mpg.csv. Load this data into 'd' with pd.read_csv().\n",
    "# This data describes Fuel economy data from 1999 to 2008 for 38 popular models of cars.\n",
    "\n",
    "d = pd.read_csv('mpg.csv')\n",
    "d"
   ]
  },
  {
   "cell_type": "code",
   "execution_count": null,
   "metadata": {},
   "outputs": [],
   "source": [
    "#4. Calculate the mean city (cty) mileage for each manufacturer, printing the result to the console.\n",
    "\n",
    "print(d['cty'].groupby(d['manufacturer']).mean())\n"
   ]
  },
  {
   "cell_type": "code",
   "execution_count": null,
   "metadata": {},
   "outputs": [],
   "source": [
    "#5. Group 'd' by cylinders (cyl) and type of drive train (drv). Calculate the number of models per group (hint: .size()).\n",
    "#   Convert the result into a DataFrame, and print to the console.\n",
    "\n",
    "grouping = d['model'].groupby([d['cyl'],d['drv']]).size()\n",
    "groupingDf = grouping.unstack()\n",
    "groupingDf"
   ]
  }
 ],
 "metadata": {
  "kernelspec": {
   "display_name": "Python 3.9.13 ('base')",
   "language": "python",
   "name": "python3"
  },
  "language_info": {
   "codemirror_mode": {
    "name": "ipython",
    "version": 3
   },
   "file_extension": ".py",
   "mimetype": "text/x-python",
   "name": "python",
   "nbconvert_exporter": "python",
   "pygments_lexer": "ipython3",
   "version": "3.9.13 (main, Aug 25 2022, 23:26:10) \n[GCC 11.2.0]"
  },
  "vscode": {
   "interpreter": {
    "hash": "766c8827b8375263fe3be52fd6025d00a0ac479ca50e27c7d665aca8fac8b122"
   }
  }
 },
 "nbformat": 4,
 "nbformat_minor": 2
}
