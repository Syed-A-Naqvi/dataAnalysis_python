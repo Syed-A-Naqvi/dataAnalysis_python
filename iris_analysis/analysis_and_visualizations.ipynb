{
 "cells": [
  {
   "cell_type": "code",
   "execution_count": null,
   "metadata": {},
   "outputs": [],
   "source": [
    "import pandas as pd\n",
    "from ucimlrepo import fetch_ucirepo\n",
    "import matplotlib.pyplot as plt\n",
    "import numpy as np"
   ]
  },
  {
   "cell_type": "markdown",
   "metadata": {},
   "source": [
    "### Importing and Loading Data\n",
    "---"
   ]
  },
  {
   "cell_type": "code",
   "execution_count": null,
   "metadata": {},
   "outputs": [],
   "source": [
    "# fetch dataset \n",
    "iris = fetch_ucirepo(id=53) \n",
    "\n",
    "# metadata \n",
    "print(iris.metadata) \n",
    "  \n",
    "# variable information \n",
    "print(iris.variables) \n",
    "\n",
    "print(type(iris))"
   ]
  },
  {
   "cell_type": "code",
   "execution_count": null,
   "metadata": {},
   "outputs": [],
   "source": [
    "for d in dict(iris):\n",
    "    print(d)\n",
    "\n",
    "print()\n",
    "\n",
    "for d in dict(iris)['data']:\n",
    "    print(d)\n",
    "\n",
    "display(dict(iris)['data']['ids'])\n",
    "display(dict(iris)['data']['features'])\n",
    "display(dict(iris)['data']['targets'])\n",
    "display(dict(iris)['data']['original'])\n",
    "display(dict(iris)['data']['headers'])"
   ]
  },
  {
   "cell_type": "code",
   "execution_count": null,
   "metadata": {},
   "outputs": [],
   "source": [
    "data = pd.DataFrame(dict(iris)['data']['original'])\n",
    "features = pd.DataFrame(dict(iris)['data']['features'])\n",
    "targets = pd.DataFrame(dict(iris)['data']['targets'])\n",
    "\n",
    "display(data.head())\n",
    "display(features.head())\n",
    "display(targets.head())"
   ]
  },
  {
   "cell_type": "markdown",
   "metadata": {},
   "source": [
    "### Calculating Summary Statistics\n",
    "--- "
   ]
  },
  {
   "cell_type": "code",
   "execution_count": null,
   "metadata": {},
   "outputs": [],
   "source": [
    "for c in data.columns:\n",
    "    if (pd.api.types.is_any_real_numeric_dtype(data[c])):\n",
    "        print(f\"{c}:\")\n",
    "        print(f\"\\tMean = {data[c].mean():.2f}\")\n",
    "        print(f\"\\tStandard Deviation = {data[c].std():.2f}\")\n",
    "        print(f\"\\tMinimum Value = {data[c].min():.2f}\")\n",
    "        print(f\"\\tMinimum Value = {data[c].max():.2f}\")\n",
    "        print()"
   ]
  },
  {
   "cell_type": "code",
   "execution_count": null,
   "metadata": {},
   "outputs": [],
   "source": [
    "data['class'].value_counts()"
   ]
  },
  {
   "cell_type": "code",
   "execution_count": null,
   "metadata": {},
   "outputs": [],
   "source": [
    "data.describe(include='all')"
   ]
  },
  {
   "cell_type": "code",
   "execution_count": null,
   "metadata": {},
   "outputs": [],
   "source": [
    "print(\"Covariance:\")\n",
    "features.cov()"
   ]
  },
  {
   "cell_type": "code",
   "execution_count": null,
   "metadata": {},
   "outputs": [],
   "source": [
    "print(\"Correlation:\")\n",
    "features.corr()"
   ]
  },
  {
   "cell_type": "code",
   "execution_count": null,
   "metadata": {},
   "outputs": [],
   "source": [
    "data['sepal length'].plot(kind='hist', title='sepal length histogram', xlabel='length (cm)', ylabel='frequency',\n",
    "                          bins=np.arange(4.0,8.5,0.5), xticks=np.arange(4.0,8.5,0.5), edgecolor='black', grid=True)\n",
    "plt.show()"
   ]
  },
  {
   "cell_type": "code",
   "execution_count": null,
   "metadata": {},
   "outputs": [],
   "source": [
    "features.plot(kind='box', title='feature distribution', xlabel='feature', ylabel='cm')\n",
    "plt.show()"
   ]
  },
  {
   "cell_type": "code",
   "execution_count": null,
   "metadata": {},
   "outputs": [],
   "source": [
    "fig, axes = plt.subplots(3,2,figsize=(12,12))\n",
    "\n",
    "index = 0\n",
    "for i in range(3):\n",
    "    for j in range(i+1, 4):\n",
    "        ax1 = index // 2\n",
    "        ax2 = index % 2\n",
    "        axes[ax1,ax2].plot(data.iloc[:,i], data.iloc[:,j], 'o')\n",
    "        axes[ax1,ax2].set_xlabel(f\"{data.columns[i]}\")\n",
    "        axes[ax1,ax2].set_ylabel(f\"{data.columns[j]}\")\n",
    "        index += 1"
   ]
  },
  {
   "cell_type": "code",
   "execution_count": null,
   "metadata": {},
   "outputs": [],
   "source": [
    "pd.plotting.parallel_coordinates(data, 'class')"
   ]
  }
 ],
 "metadata": {
  "kernelspec": {
   "display_name": "Python 3.9.13 ('base')",
   "language": "python",
   "name": "python3"
  },
  "language_info": {
   "codemirror_mode": {
    "name": "ipython",
    "version": 3
   },
   "file_extension": ".py",
   "mimetype": "text/x-python",
   "name": "python",
   "nbconvert_exporter": "python",
   "pygments_lexer": "ipython3",
   "version": "3.12.4"
  },
  "vscode": {
   "interpreter": {
    "hash": "766c8827b8375263fe3be52fd6025d00a0ac479ca50e27c7d665aca8fac8b122"
   }
  }
 },
 "nbformat": 4,
 "nbformat_minor": 2
}
