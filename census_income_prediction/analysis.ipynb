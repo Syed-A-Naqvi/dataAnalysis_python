{
 "cells": [
  {
   "cell_type": "markdown",
   "metadata": {},
   "source": [
    "#### Loading Necessary Libraries\n",
    "---"
   ]
  },
  {
   "cell_type": "code",
   "execution_count": null,
   "metadata": {},
   "outputs": [],
   "source": [
    "import pandas as pd\n",
    "import matplotlib.pyplot as plt"
   ]
  },
  {
   "cell_type": "markdown",
   "metadata": {},
   "source": [
    "### Loading and Cleaning frame\n",
    "---"
   ]
  },
  {
   "cell_type": "code",
   "execution_count": null,
   "metadata": {},
   "outputs": [],
   "source": [
    "# loading and removing initial values\n",
    "missing_values = [\" ?\"]\n",
    "data = pd.read_csv('http://archive.ics.uci.edu/ml/machine-learning-databases/adult/adult.data',header=None, na_values = missing_values)"
   ]
  },
  {
   "cell_type": "code",
   "execution_count": null,
   "metadata": {},
   "outputs": [],
   "source": [
    "data.head()\n",
    "\n",
    "# re-labeling columns as per UC Irvine ML dataset column order\n",
    "columns = [\"age\", \"workclass\", \"fnlwgt\", \"education\", \"education-num\",\n",
    "           \"marital-status\", \"occupation\", \"relationship\", \"race\", \"sex\", \"capital-gain\",\n",
    "           \"capital-loss\", \"hours-per-week\", \"native-country\", \"income\"]\n",
    "data.columns = columns\n",
    "data.head()"
   ]
  },
  {
   "cell_type": "markdown",
   "metadata": {},
   "source": [
    "### Calculating Summary Statistics\n",
    "---"
   ]
  },
  {
   "cell_type": "markdown",
   "metadata": {},
   "source": [
    "#### Part I\n",
    "Question 1."
   ]
  },
  {
   "cell_type": "code",
   "execution_count": null,
   "metadata": {},
   "outputs": [],
   "source": [
    "# summary statistics of all continuous variables\n",
    "for c in data.columns:\n",
    "    if pd.api.types.is_any_real_numeric_dtype(data[c]):\n",
    "        print(f\"{c} sumary:\")\n",
    "        display(data[c].describe())"
   ]
  },
  {
   "cell_type": "code",
   "execution_count": null,
   "metadata": {},
   "outputs": [],
   "source": [
    "data[['education', 'education-num']].sort_values(by='education-num').drop_duplicates()"
   ]
  },
  {
   "cell_type": "markdown",
   "metadata": {},
   "source": [
    "Question 2."
   ]
  },
  {
   "cell_type": "code",
   "execution_count": null,
   "metadata": {},
   "outputs": [],
   "source": [
    "# calculating unique value frequencies for discrete features \n",
    "for c in data.columns:\n",
    "    if not(pd.api.types.is_any_real_numeric_dtype(data[c])):\n",
    "        print(f\"{c} value unque value counts:\")\n",
    "        display(data[c].value_counts())"
   ]
  },
  {
   "cell_type": "markdown",
   "metadata": {},
   "source": [
    "### Visualizations\n",
    "---"
   ]
  },
  {
   "cell_type": "markdown",
   "metadata": {},
   "source": [
    "Question 3."
   ]
  },
  {
   "cell_type": "code",
   "execution_count": null,
   "metadata": {},
   "outputs": [],
   "source": [
    "# a bar chart is an effective way to visualize income bracket distribution\n",
    "data['income'].value_counts().plot(kind='bar', xlabel='Income Bracket', ylabel=\"Frequency\", title='Income Bracket Distribution',\n",
    "                                   grid=True)\n",
    "plt.show()"
   ]
  },
  {
   "cell_type": "markdown",
   "metadata": {},
   "source": [
    "Question 4."
   ]
  },
  {
   "cell_type": "code",
   "execution_count": null,
   "metadata": {},
   "outputs": [],
   "source": [
    "# gaining more insight into the distribution of age, education level and hours worked\n",
    "data['age'].plot(kind='hist', xlabel='age', ylabel=\"frequency\", title='Age Distribution',\n",
    "                                   grid=True)\n",
    "plt.show()\n",
    "edu_bar = data['education-num'].value_counts().sort_index().plot(kind='bar', xlabel='level', ylabel=\"frequency\", title='Education Level Distribution',\n",
    "                                   grid=True, width=0.8)\n",
    "edu_bar.set_xticklabels(data[['education','education-num']].sort_values(by='education-num')['education'].unique())\n",
    "plt.show()\n",
    "data['hours-per-week'].plot(kind='hist', xlabel='hours', ylabel=\"frequency\", title='Hours per Week Distribution',\n",
    "                                   grid=True, bins=10)\n",
    "plt.show()"
   ]
  },
  {
   "cell_type": "markdown",
   "metadata": {},
   "source": [
    "Question 5."
   ]
  },
  {
   "cell_type": "code",
   "execution_count": null,
   "metadata": {},
   "outputs": [],
   "source": [
    "# lets visualize how age relates to hours worked and education level\n",
    "fig, ax = plt.subplots()\n",
    "fig.set_size_inches(10,6)\n",
    "\n",
    "ax.scatter(x=data['age'], y=data['hours-per-week'])\n",
    "ax.set_xlabel(\"age\")\n",
    "ax.set_ylabel(\"hours worked\")\n",
    "ax.set_title(\"age vs hours worked\")\n",
    "plt.show()\n"
   ]
  },
  {
   "cell_type": "code",
   "execution_count": null,
   "metadata": {},
   "outputs": [],
   "source": [
    "fig, ax = plt.subplots()\n",
    "fig.set_size_inches(10,6)\n",
    "\n",
    "ax.scatter(x=data['age'], y=data['capital-gain'])\n",
    "ax.set_xlabel(\"age\")\n",
    "ax.set_ylabel('capital gained (USD)')\n",
    "ax.set_title(\"age vs capital-gain\")\n",
    "plt.show()\n"
   ]
  },
  {
   "cell_type": "code",
   "execution_count": null,
   "metadata": {},
   "outputs": [],
   "source": [
    "fig, ax = plt.subplots()\n",
    "fig.set_size_inches(10,6)\n",
    "\n",
    "ax.scatter(x=data['hours-per-week'], y=data['capital-gain'])\n",
    "ax.set_xlabel(\"hours worked\")\n",
    "ax.set_ylabel('capital gained (USD)')\n",
    "ax.set_title(\"Hours Worked Per Week vs Annual Captial Gained\")\n",
    "plt.show()"
   ]
  },
  {
   "cell_type": "markdown",
   "metadata": {},
   "source": [
    "Question 6."
   ]
  },
  {
   "cell_type": "code",
   "execution_count": null,
   "metadata": {},
   "outputs": [],
   "source": [
    "# lets standardize some of the features and create a new dataframe so that the parallel diagram is more readable\n",
    "stdzd_hrs = (data['hours-per-week']-data['hours-per-week'].mean())/data['hours-per-week'].std()\n",
    "stdzd_education = (data['education-num']-data['education-num'].mean())/data['education-num'].std()\n",
    "stdzd_age = (data['age']-data['age'].mean())/data['age'].std()\n",
    "stdzd_data = pd.DataFrame({\n",
    "    'age': stdzd_age,\n",
    "    'education-num': stdzd_education,\n",
    "    'hours_worked': stdzd_hrs,\n",
    "    'sex': data['sex']\n",
    "})"
   ]
  },
  {
   "cell_type": "code",
   "execution_count": null,
   "metadata": {},
   "outputs": [],
   "source": [
    "fig, ax = plt.subplots()\n",
    "fig.set_size_inches(10,6)\n",
    "ax = pd.plotting.parallel_coordinates(stdzd_data, 'sex', color=['blue','red'])\n",
    "ax.set_title(\"Male vs Female Census Metrics\")\n",
    "ax.set_xticklabels(['age', 'education level', 'hours worked'])\n",
    "plt.show()"
   ]
  },
  {
   "cell_type": "markdown",
   "metadata": {},
   "source": [
    "### Handling Missing Data\n",
    "--- "
   ]
  },
  {
   "cell_type": "markdown",
   "metadata": {},
   "source": [
    "#### Part II"
   ]
  },
  {
   "cell_type": "code",
   "execution_count": null,
   "metadata": {},
   "outputs": [],
   "source": [
    "# determining features with missing values\n",
    "nan_attributes = data.columns[data.isna().any()]\n",
    "nan_attributes"
   ]
  },
  {
   "cell_type": "markdown",
   "metadata": {},
   "source": [
    "#### Feature distribution before filling in missing values"
   ]
  },
  {
   "cell_type": "code",
   "execution_count": null,
   "metadata": {},
   "outputs": [],
   "source": [
    "# feature distributions with missing values ignored\n",
    "data['workclass'].value_counts().plot(kind='bar', title='Workclass Distribution Before Filling Missing Values',\n",
    "                                      xlabel='Workclass', ylabel='Frequency', figsize=(5,4), width=0.8)\n",
    "plt.show()\n",
    "\n",
    "data['occupation'].value_counts().plot(kind='bar', title='Occupation Distribution Before Filling Missing Values',\n",
    "                                      xlabel='Occupation', ylabel='Frequency', figsize=(5,4), width=0.8)\n",
    "plt.show()\n",
    "\n",
    "data['native-country'].value_counts().plot(kind='bar', title='Native Country Distribution Before Filling Missing Values',\n",
    "                                      xlabel='Country', ylabel='Frequency', figsize=(10,4), width=0.8)\n",
    "plt.show()"
   ]
  },
  {
   "cell_type": "markdown",
   "metadata": {},
   "source": [
    "#### Replacing NaN values with mode of attribute\n",
    "\n",
    "Question 1."
   ]
  },
  {
   "cell_type": "code",
   "execution_count": null,
   "metadata": {},
   "outputs": [],
   "source": [
    "# since all features with missing attributes are categorical, we replace nan values with the mode of the feature\n",
    "workclass_mode = data['workclass'].mode()[0]\n",
    "occupation_mode = data['occupation'].mode()[0]\n",
    "nat_country_mode = data['native-country'].mode()[0]\n",
    "\n",
    "nafilled_workclass = data['workclass'].fillna(workclass_mode, inplace=False)\n",
    "nafilled_occupation = data['occupation'].fillna(occupation_mode, inplace=False)\n",
    "nafilled_nat_country = data['native-country'].fillna(nat_country_mode, inplace=False)\n",
    "\n",
    "# feature distributions with missing values filled \n",
    "nafilled_workclass.value_counts().plot(kind='bar', title='Workclass Distribution After Filling Missing Values with Feature Mode',\n",
    "                                      xlabel='Workclass', ylabel='Frequency', figsize=(5,4), width=0.8)\n",
    "plt.show()\n",
    "\n",
    "nafilled_occupation.value_counts().plot(kind='bar', title='Occupation Distribution After Filling Missing Values with Feature Mode',\n",
    "                                      xlabel='Occupation', ylabel='Frequency', figsize=(5,4), width=0.8)\n",
    "plt.show()\n",
    "\n",
    "nafilled_nat_country.value_counts().plot(kind='bar', title='Native Country Distribution After Filling Missing Values with Feature Mode',\n",
    "                                      xlabel='Country', ylabel='Frequency', figsize=(10,4), width=0.8)\n",
    "plt.show()"
   ]
  },
  {
   "cell_type": "markdown",
   "metadata": {},
   "source": [
    "#### Replacing NaN values with mode/mean based on attribute dtype and class value of Nan instance\n",
    "\n",
    "Question 2."
   ]
  },
  {
   "cell_type": "code",
   "execution_count": null,
   "metadata": {},
   "outputs": [],
   "source": [
    "# this function will replace all nan values by their feature mode/mean (based on discrete/continuous features) for the class to which the nan instance\n",
    "# belongs\n",
    "def filna_by_class(data, class_attr):\n",
    "    \n",
    "    frame = data.copy(deep=True)\n",
    "    nan_attributes = frame.columns[frame.isna().any()]\n",
    "    class_value_dfs = {}\n",
    "    \n",
    "    unique_classes = frame[class_attr].unique()\n",
    "    for x in unique_classes:\n",
    "        class_value_dfs[x] = frame[frame[class_attr] == x]\n",
    "        \n",
    "    for c in nan_attributes:\n",
    "        for i in frame[frame[c].isna()].index:\n",
    "            i_class = frame.loc[i,'income']\n",
    "            if pd.api.types.is_any_real_numeric_dtype(frame[c]):\n",
    "                frame.loc[i,c] = class_value_dfs[i_class][c].mean()[0]\n",
    "            else:\n",
    "                frame.loc[i,c] = class_value_dfs[i_class][c].mode()[0]\n",
    "    \n",
    "    return frame"
   ]
  },
  {
   "cell_type": "code",
   "execution_count": null,
   "metadata": {},
   "outputs": [],
   "source": [
    "# filling missing values based on missing instance class\n",
    "nonan_data = filna_by_class(data, 'income')"
   ]
  },
  {
   "cell_type": "code",
   "execution_count": null,
   "metadata": {},
   "outputs": [],
   "source": [
    "nonan_data['workclass'].value_counts().plot(kind='bar', title='Workclass Distribution After Filling Missing Values with Feature Mode\\nfor relevant class',\n",
    "                                      xlabel='Workclass', ylabel='Frequency', figsize=(5,4), width=0.8)\n",
    "plt.show()\n",
    "\n",
    "nonan_data['occupation'].value_counts().plot(kind='bar', title='Occupation Distribution After Filling Missing Values with Feature Mode\\nfor relevant class',\n",
    "                                      xlabel='Occupation', ylabel='Frequency', figsize=(5,4), width=0.8)\n",
    "plt.show()\n",
    "\n",
    "nonan_data['native-country'].value_counts().plot(kind='bar', title='Native Country Distribution After Filling Missing Values with Feature Mode\\nfor relevant class',\n",
    "                                      xlabel='Country', ylabel='Frequency', figsize=(10,4), width=0.8)\n",
    "plt.show()"
   ]
  }
 ],
 "metadata": {
  "kernelspec": {
   "display_name": "ml",
   "language": "python",
   "name": "python3"
  },
  "language_info": {
   "codemirror_mode": {
    "name": "ipython",
    "version": 3
   },
   "file_extension": ".py",
   "mimetype": "text/x-python",
   "name": "python",
   "nbconvert_exporter": "python",
   "pygments_lexer": "ipython3",
   "version": "3.12.4"
  }
 },
 "nbformat": 4,
 "nbformat_minor": 2
}
