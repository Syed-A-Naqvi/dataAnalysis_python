{
 "cells": [
  {
   "cell_type": "code",
   "execution_count": null,
   "metadata": {},
   "outputs": [],
   "source": [
    "import matplotlib.pyplot as plt\n",
    "import networkx as nx\n",
    "import numpy as np"
   ]
  },
  {
   "cell_type": "code",
   "execution_count": null,
   "metadata": {},
   "outputs": [],
   "source": [
    "import matplotlib.pyplot as plt\n",
    "import networkx as nx\n",
    "import numpy as np\n",
    "\n",
    "A = np.array([[0,1,1,1,0,0,0,0,0,0],\n",
    "              [1,0,1,1,0,0,0,0,0,0],\n",
    "              [1,1,0,1,1,1,0,0,0,0],\n",
    "              [1,1,1,0,0,0,0,0,0,0],\n",
    "              [0,0,1,0,0,1,0,0,0,0],\n",
    "              [0,0,1,0,1,0,1,1,0,0],\n",
    "              [0,0,0,0,0,1,0,1,0,0],\n",
    "              [0,0,0,0,0,1,1,0,1,1],\n",
    "              [0,0,0,0,0,0,0,1,0,0],\n",
    "              [0,0,0,0,0,0,0,1,0,0]])\n",
    "\n",
    "node_labels = {i: i+1 for i in range(0,10)}\n",
    "G = nx.relabel_nodes(nx.from_numpy_array(A), node_labels)\n",
    "\n",
    "fig, ax = plt.subplots()\n",
    "nx.draw(G, with_labels=True, edge_color='white', font_color='white')\n",
    "fig.set_facecolor('#333333')\n"
   ]
  },
  {
   "cell_type": "code",
   "execution_count": null,
   "metadata": {},
   "outputs": [],
   "source": [
    "for i in range(1,11):\n",
    "    for j in range(i+1,11):\n",
    "        if  (i==j or i==5 or j==5):\n",
    "            continue\n",
    "        count = 0\n",
    "        print(f'shortest paths between {i} and {j}:')\n",
    "        for x in nx.all_shortest_paths(G,i,j):\n",
    "            count+=1\n",
    "            print(x)\n",
    "        print(f'shortest paths between {i} and {j}: {count} ')"
   ]
  },
  {
   "cell_type": "code",
   "execution_count": null,
   "metadata": {},
   "outputs": [],
   "source": [
    "print(A)"
   ]
  },
  {
   "cell_type": "code",
   "execution_count": null,
   "metadata": {},
   "outputs": [],
   "source": [
    "A2 = A@A\n",
    "print(A2)"
   ]
  },
  {
   "cell_type": "code",
   "execution_count": null,
   "metadata": {},
   "outputs": [],
   "source": [
    "A3 = A@A@A\n",
    "print(A3)"
   ]
  },
  {
   "cell_type": "code",
   "execution_count": null,
   "metadata": {},
   "outputs": [],
   "source": [
    "offDiag = 0\n",
    "# for i in range(0,len(A2)):\n",
    "#     for j in range(0,len(A2[0])):\n",
    "#         if(j==i):\n",
    "#             continue\n",
    "#         offDiag += A2[i,j]\n",
    "\n",
    "for i in range(1,len(A2)):\n",
    "    for j in range(0,i):\n",
    "        if(j==i):\n",
    "            continue\n",
    "        offDiag += A2[i,j]\n",
    "\n",
    "print(offDiag*2)\n",
    "\n",
    "traceA3 = np.trace(A3)\n",
    "print(traceA3)\n",
    "# calculatedCoef =  ((1/2)*(np.trace(A@A@A)))/((1/2)*offDiag)\n",
    "# clusteringCoef = nx.transitivity(G)\n",
    "\n",
    "# print(f'Calculated = {calculatedCoef}')\n",
    "# print(f'Built-In = {clusteringCoef}')\n",
    "        "
   ]
  },
  {
   "cell_type": "code",
   "execution_count": null,
   "metadata": {},
   "outputs": [],
   "source": [
    "B = np.array([[0,1,1,1],\n",
    "              [1,0,1,1],\n",
    "              [1,1,0,1],\n",
    "              [1,1,1,0]])\n",
    "\n",
    "node_labels = {i: i+1 for i in range(0,5)}\n",
    "H = nx.relabel_nodes(nx.from_numpy_array(B), node_labels)\n",
    "\n",
    "fig, ax = plt.subplots()\n",
    "nx.draw(H, pos=nx.circular_layout(H), with_labels=True, edge_color='white', font_color='white')\n",
    "fig.set_facecolor('#333333')"
   ]
  },
  {
   "cell_type": "code",
   "execution_count": null,
   "metadata": {},
   "outputs": [],
   "source": [
    "print(nx.transitivity(H))\n",
    "B2 = B@B\n",
    "B3 = B2@B\n",
    "\n",
    "offDiag = 0\n",
    "for i in range(1,len(B2)):\n",
    "    for j in range(0,i):\n",
    "        if(j==i):\n",
    "            continue\n",
    "        offDiag += B2[i,j]\n",
    "\n",
    "traceB3 = np.trace(B3)\n",
    "print(traceB3/(offDiag*2))\n",
    "print(B)"
   ]
  },
  {
   "cell_type": "code",
   "execution_count": null,
   "metadata": {},
   "outputs": [],
   "source": [
    "C = np.array([[0, 0, 0, 0, 0, 1],\n",
    "              [1, 0, 1, 0, 1, 1],\n",
    "              [0, 1, 0, 1, 0, 0],\n",
    "              [0, 0, 0, 0, 1, 0],\n",
    "              [0, 0, 1, 1, 0, 1],\n",
    "              [1, 0, 0, 0, 1, 0],])\n",
    "\n",
    "node_labels = {i: i+1 for i in range(0,len(C))}\n",
    "J = nx.relabel_nodes(nx.from_numpy_array(C, create_using=nx.DiGraph()), node_labels)\n",
    "\n",
    "# Determine the color for each edge based on reciprocity\n",
    "edge_colors = ['green' if J.has_edge(v, u) else 'red' for u, v in J.edges()]\n",
    "\n",
    "fig, ax = plt.subplots()\n",
    "nx.draw(J, pos=nx.circular_layout(J), with_labels=True, edge_color=edge_colors, font_color='white')\n",
    "fig.set_facecolor('#333333')\n",
    "plt.show()"
   ]
  },
  {
   "cell_type": "code",
   "execution_count": null,
   "metadata": {},
   "outputs": [],
   "source": [
    "C2 = C@C\n",
    "\n",
    "print(C)\n",
    "print(C2)"
   ]
  },
  {
   "cell_type": "code",
   "execution_count": null,
   "metadata": {},
   "outputs": [],
   "source": [
    "offDiag = 0\n",
    "for i in range(0,len(C)):\n",
    "    for j in range(0,len(C[0])):\n",
    "        if(j==i):\n",
    "            continue\n",
    "        offDiag += C[i,j]\n",
    "\n",
    "print(offDiag)\n",
    "\n",
    "nx.reciprocity(J)"
   ]
  },
  {
   "cell_type": "code",
   "execution_count": null,
   "metadata": {},
   "outputs": [],
   "source": [
    "#5.(a)\n",
    "G = nx.karate_club_graph()"
   ]
  },
  {
   "cell_type": "code",
   "execution_count": null,
   "metadata": {},
   "outputs": [],
   "source": [
    "#5.(b)\n",
    "fig, ax = plt.subplots()\n",
    "nx.draw(G, with_labels=True, edge_color='white', font_color='white')\n",
    "fig.set_size_inches(12,8)\n",
    "fig.set_facecolor('#333333')"
   ]
  },
  {
   "cell_type": "code",
   "execution_count": null,
   "metadata": {},
   "outputs": [],
   "source": [
    "#5. (d)\n",
    "def degreedist(G, logs=False):\n",
    "    degrees = dict(G.degree()).values()\n",
    "    \n",
    "    # Set the figure and axis background color\n",
    "    fig, ax = plt.subplots()\n",
    "    fig.patch.set_facecolor('#333333')\n",
    "    ax.set_facecolor('#333333')\n",
    "    \n",
    "    plt.hist(degrees, log=logs, edgecolor=\"white\")\n",
    "    plt.title('Degree Distribution')\n",
    "    plt.xlabel('Degree')\n",
    "    plt.ylabel('Frequency')\n",
    "    \n",
    "    if logs:\n",
    "        plt.xscale('log')\n",
    "        plt.yscale('log')\n",
    "        plt.title('Log-Log Degree Distribution')\n",
    "    \n",
    "    # Set label colors to white for visibility against dark background\n",
    "    ax.xaxis.label.set_color('white')\n",
    "    ax.yaxis.label.set_color('white')\n",
    "    ax.title.set_color('white')\n",
    "    ax.tick_params(axis='both', colors='white')\n",
    "    for spine in ax.spines.values():\n",
    "        spine.set_edgecolor('white')\n",
    "    \n",
    "    plt.show()\n",
    "\n",
    "def network_statistics(G, logs=False):\n",
    "    degreedist(G, logs=logs)\n",
    "    print(\"Edge density: \", nx.density(G))\n",
    "    print(\"Transitivity: \", nx.transitivity(G))\n",
    "    print(\"Average path length: \", nx.average_shortest_path_length(G))\n"
   ]
  },
  {
   "cell_type": "code",
   "execution_count": null,
   "metadata": {},
   "outputs": [],
   "source": [
    "network_statistics(G)"
   ]
  },
  {
   "cell_type": "code",
   "execution_count": null,
   "metadata": {},
   "outputs": [],
   "source": [
    "network_statistics(G, logs=True)"
   ]
  },
  {
   "cell_type": "code",
   "execution_count": null,
   "metadata": {},
   "outputs": [],
   "source": [
    "#5. (e)\n",
    "degrees = dict(nx.degree(G))\n",
    "\n",
    "sorted_degrees = sorted(degrees.items(), key=lambda x: x[1], reverse=True)\n",
    "\n",
    "sorted_degrees_p1 = sorted_degrees[0:len(sorted_degrees)//3]\n",
    "sorted_degrees_p2 = sorted_degrees[len(sorted_degrees)//3:2*len(sorted_degrees)//3]\n",
    "sorted_degrees_p3 = sorted_degrees[2*len(sorted_degrees)//3:]\n",
    "\n",
    "print('All node degrees, greatest to least: ' )\n",
    "print(dict(sorted_degrees_p1))\n",
    "print(dict(sorted_degrees_p2))\n",
    "print(dict(sorted_degrees_p3))"
   ]
  },
  {
   "cell_type": "code",
   "execution_count": null,
   "metadata": {},
   "outputs": [],
   "source": [
    "#5. (f)\n",
    "closeness = sorted(nx.closeness_centrality(G).items(), key=lambda x: x[1], reverse=True)\n",
    "betweenness = sorted(nx.betweenness_centrality(G).items(), key=lambda x: x[1], reverse=True)\n",
    "\n",
    "print('All closeness centralities, greatest to least: ' )\n",
    "print(dict(closeness))\n",
    "\n",
    "print('\\nAll betweenness centralities, greatest to least: ' )\n",
    "print(dict(betweenness))"
   ]
  },
  {
   "cell_type": "code",
   "execution_count": null,
   "metadata": {},
   "outputs": [],
   "source": [
    "#5. (h)\n",
    "pos = nx.spring_layout(G)"
   ]
  },
  {
   "cell_type": "code",
   "execution_count": null,
   "metadata": {},
   "outputs": [],
   "source": [
    "# Pick a colormap to map degrees to colors\n",
    "degrees = dict(G.degree())\n",
    "\n",
    "cmap = plt.get_cmap('cool', max(degrees.values()) - min(degrees.values()) + 1)\n",
    "\n",
    "# Get a list of colors for nodes based on their degrees\n",
    "node_colors = [cmap(degrees[node]) for node in G.nodes()]\n",
    "# Draw the graph with node colors\n",
    "fig, ax = plt.subplots()\n",
    "nx.draw(G, pos, with_labels=True, node_color=node_colors, edge_color='white', font_color='black')\n",
    "fig.set_size_inches(10,7)\n",
    "fig.set_facecolor('#333333')\n",
    "#plt.colorbar()\n",
    "plt.show()"
   ]
  },
  {
   "cell_type": "code",
   "execution_count": null,
   "metadata": {},
   "outputs": [],
   "source": [
    "# Pick a colormap to map closeness centralities to colors\n",
    "c_centrals = nx.closeness_centrality(G)\n",
    "\n",
    "cmap = plt.get_cmap('cool')\n",
    "\n",
    "# Get a list of colors for nodes based on their degrees\n",
    "node_colors = [cmap(c_centrals[node]) for node in G.nodes()]\n",
    "# Draw the graph with node colors\n",
    "fig, ax = plt.subplots()\n",
    "nx.draw(G, pos, with_labels=True, node_color=node_colors, edge_color='white', font_color='black')\n",
    "fig.set_size_inches(10,7)\n",
    "fig.set_facecolor('#333333')\n",
    "#plt.colorbar()\n",
    "plt.show()"
   ]
  },
  {
   "cell_type": "code",
   "execution_count": null,
   "metadata": {},
   "outputs": [],
   "source": [
    "# Pick a colormap to map betweenness centralities to colors\n",
    "b_centrals = nx.betweenness_centrality(G)\n",
    "\n",
    "cmap = plt.get_cmap('cool')\n",
    "\n",
    "# Get a list of colors for nodes based on their degrees\n",
    "node_colors = [cmap(b_centrals[node]) for node in G.nodes()]\n",
    "# Draw the graph with node colors\n",
    "fig, ax = plt.subplots()\n",
    "nx.draw(G, pos, with_labels=True, node_color=node_colors, edge_color='white', font_color='black')\n",
    "fig.set_size_inches(10,7)\n",
    "fig.set_facecolor('#333333')\n",
    "#plt.colorbar()\n",
    "plt.show()"
   ]
  }
 ],
 "metadata": {
  "kernelspec": {
   "display_name": "base",
   "language": "python",
   "name": "python3"
  },
  "language_info": {
   "codemirror_mode": {
    "name": "ipython",
    "version": 3
   },
   "file_extension": ".py",
   "mimetype": "text/x-python",
   "name": "python",
   "nbconvert_exporter": "python",
   "pygments_lexer": "ipython3",
   "version": "3.11.4"
  }
 },
 "nbformat": 4,
 "nbformat_minor": 2
}
