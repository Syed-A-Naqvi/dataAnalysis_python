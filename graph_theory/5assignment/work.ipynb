{
 "cells": [
  {
   "cell_type": "code",
   "execution_count": null,
   "metadata": {},
   "outputs": [],
   "source": [
    "import numpy as np\n",
    "import networkx as nx\n",
    "import matplotlib.pyplot as plt\n",
    "import math"
   ]
  },
  {
   "cell_type": "code",
   "execution_count": null,
   "metadata": {},
   "outputs": [],
   "source": [
    "P = np.array([[0, 1/4, 1/4, 1/4, 1/4],\n",
    "              [0, 0, 0, 0, 1],\n",
    "              [0, 1/3, 0, 1/3, 1/3],\n",
    "              [0, 1/2, 0, 0, 1/2],\n",
    "              [0, 0, 0, 0, 0]])\n",
    "\n",
    "k = 50\n",
    "\n",
    "P_k = np.linalg.matrix_power(P,k)\n",
    "print(P_k)\n"
   ]
  },
  {
   "cell_type": "code",
   "execution_count": null,
   "metadata": {},
   "outputs": [],
   "source": [
    "J = np.ones((5,5))\n",
    "beta = 0.8\n",
    "k = 50\n",
    "P_modified = beta*P + (1-beta)*(1/5)*J\n",
    "P_modified_k = np.linalg.matrix_power(P_modified,k)\n",
    "print(P_modified_k)"
   ]
  },
  {
   "cell_type": "code",
   "execution_count": null,
   "metadata": {},
   "outputs": [],
   "source": [
    "G = nx.read_edgelist(\"Wiki_math\", delimiter=\"\\t\", create_using=nx.DiGraph, data=False)\n",
    "\n",
    "pos = nx.spring_layout(G)\n",
    "fig, ax = plt.subplots()\n",
    "nx.draw(G, with_labels=True, edge_color='white', font_color='white')\n",
    "fig.set_facecolor('#333333')\n",
    "fig.set_size_inches((30,30))\n",
    "plt.show()"
   ]
  },
  {
   "cell_type": "code",
   "execution_count": null,
   "metadata": {},
   "outputs": [],
   "source": [
    "pagerank_dict = nx.pagerank(G)\n",
    "# Sort nodes by pagerank\n",
    "pagerank_sorted = sorted(pagerank_dict.items(), key=lambda item: item[1], reverse=True)\n",
    "pagerank_sorted[0:10]"
   ]
  },
  {
   "cell_type": "code",
   "execution_count": null,
   "metadata": {},
   "outputs": [],
   "source": [
    "G.add_edge(\"Mathematics\",\"Nerds\")\n",
    "pos = nx.spring_layout(G)\n",
    "fig, ax = plt.subplots()\n",
    "nx.draw(G, with_labels=True, edge_color='white', font_color='white')\n",
    "fig.set_facecolor('#333333')\n",
    "fig.set_size_inches((30,30))\n",
    "plt.show()"
   ]
  },
  {
   "cell_type": "code",
   "execution_count": null,
   "metadata": {},
   "outputs": [],
   "source": [
    "G.add_edge(\"Mathematics\",\"Nerds\")\n",
    "pagerank_dict = nx.pagerank(G)\n",
    "# Sort nodes by pagerank\n",
    "pagerank_sorted = sorted(pagerank_dict.items(), key=lambda item: item[1], reverse=True)\n",
    "pagerank_sorted[0:10]"
   ]
  },
  {
   "cell_type": "code",
   "execution_count": null,
   "metadata": {},
   "outputs": [],
   "source": []
  }
 ],
 "metadata": {
  "kernelspec": {
   "display_name": "base",
   "language": "python",
   "name": "python3"
  },
  "language_info": {
   "codemirror_mode": {
    "name": "ipython",
    "version": 3
   },
   "file_extension": ".py",
   "mimetype": "text/x-python",
   "name": "python",
   "nbconvert_exporter": "python",
   "pygments_lexer": "ipython3",
   "version": "3.11.4"
  }
 },
 "nbformat": 4,
 "nbformat_minor": 2
}
