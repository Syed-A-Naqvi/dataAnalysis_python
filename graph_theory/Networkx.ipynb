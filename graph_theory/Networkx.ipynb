{
 "cells": [
  {
   "cell_type": "code",
   "execution_count": null,
   "metadata": {},
   "outputs": [],
   "source": [
    "import networkx as nx\n",
    "import numpy as np\n",
    "import math\n",
    "import matplotlib.pyplot as plt\n",
    "from networkx.algorithms import community\n",
    "# pos = nx.spring_layout(G)\n",
    "# fig = plt.figure(figsize=(4, 2))\n",
    "# nx.draw(G, with_labels=True)"
   ]
  },
  {
   "cell_type": "code",
   "execution_count": null,
   "metadata": {},
   "outputs": [],
   "source": [
    "#original graph\n",
    "G = nx.Graph()\n",
    "G.add_nodes_from(['A','B','C','D','E','F','G','H', 'I', 'J','K'])\n",
    "G.add_edges_from([('A','B'),('A','C'),('B','C'),('C','D'),\n",
    "                  ('D','E'),('D','I'),('E','G'),('E','F'),\n",
    "                  ('F','G'),('G','H'),('H','I'),('H','J'),\n",
    "                  ('I','J'),('K','I'),('J','K')])\n",
    "\n",
    "# removing edge D-C\n",
    "G.remove_edge('D','C')\n",
    "\n",
    "print(\"Edge betweenness of (G,H) excluding only edge (D,C): \",\n",
    "      nx.edge_betweenness_centrality(G,normalized=False)[('G','H')])\n",
    "\n",
    "print()\n",
    "\n",
    "# removing edge G-H\n",
    "G.remove_edge('G','H')\n",
    "\n",
    "print(\"Edge betweenness of (D,E) excluding edges (D,C) and (G,H): \",\n",
    "      nx.edge_betweenness_centrality(G, normalized=False)[('D','E')])\n",
    "print(\"Edge betweenness of (D,I) excluding edges (D,C) and (G,H): \",\n",
    "      nx.edge_betweenness_centrality(G, normalized=False)[('D','I')])\n"
   ]
  },
  {
   "cell_type": "code",
   "execution_count": null,
   "metadata": {},
   "outputs": [],
   "source": [
    "#original graph\n",
    "G = nx.Graph()\n",
    "G.add_nodes_from(['A','B','C','D','E','F','G','H', 'I', 'J','K'])\n",
    "G.add_edges_from([('A','B'),('A','C'),('B','C'),('C','D'),\n",
    "                  ('D','E'),('D','I'),('E','G'),('E','F'),\n",
    "                  ('F','G'),('G','H'),('H','I'),('H','J'),\n",
    "                  ('I','J'),('K','I'),('J','K')])\n",
    "\n",
    "# removing edge D-C\n",
    "G.remove_edge('D','C')\n",
    "\n",
    "# copy of graph G, without nodes 'A' 'B' and 'C'\n",
    "L = G.copy()\n",
    "L.remove_nodes_from(['A','B','C'])\n",
    "\n",
    "print(nx.edge_betweenness_centrality(G,normalized=False)[('G','H')])\n",
    "print(nx.edge_betweenness_centrality(L,normalized=False)[('G','H')])"
   ]
  },
  {
   "cell_type": "code",
   "execution_count": null,
   "metadata": {},
   "outputs": [],
   "source": [
    "import networkx as nx\n",
    "import numpy as np\n",
    "\n",
    "def create_sbm(n, k, p, q):\n",
    "    F = nx.Graph()\n",
    "\n",
    "    nodes = list(range(n))\n",
    "    blocks = np.random.choice(range(k), n)\n",
    "\n",
    "    for node, block in zip(nodes, blocks):\n",
    "        F.add_node(node, block=block)\n",
    "\n",
    "    for i in range(n):\n",
    "        for j in range(i+1, n):\n",
    "            if blocks[i] == blocks[j]:\n",
    "                if np.random.rand() < p:\n",
    "                    F.add_edge(i, j)\n",
    "            else:\n",
    "                if np.random.rand() < q:\n",
    "                    F.add_edge(i, j)\n",
    "\n",
    "    return F\n",
    "\n",
    "# pos = nx.spring_layout(L)\n",
    "# fig = plt.figure(figsize=(4, 2))\n",
    "# nx.draw(L, with_labels=True)"
   ]
  },
  {
   "cell_type": "code",
   "execution_count": null,
   "metadata": {},
   "outputs": [],
   "source": [
    "# Sizes of the blocks\n",
    "sizes = [10, 15, 10]\n",
    "\n",
    "# Probability matrix\n",
    "p_matrix = [[0.7, 0.03, 0.02],\n",
    "            [0.03, 0.8, 0.07],\n",
    "            [0.02, 0.07, 0.7]]\n",
    "\n",
    "# Generate the stochastic block model graph\n",
    "S = nx.stochastic_block_model(sizes, p_matrix)\n",
    "pos = nx.spring_layout(S)\n",
    "fig = plt.figure(figsize=(4, 3))\n",
    "nx.draw(S,pos=pos, with_labels=True)"
   ]
  },
  {
   "cell_type": "code",
   "execution_count": null,
   "metadata": {},
   "outputs": [],
   "source": [
    "girvan = community.girvan_newman(S)\n",
    "\n",
    "modularity = 0\n",
    "for c in girvan:\n",
    "    if (community.modularity(S, c) > modularity):\n",
    "        modularity = community.modularity(S, c)\n",
    "        communities = c\n",
    "\n",
    "print(\"Modularity: \", modularity)\n",
    "print(\"Communities: \\n\", communities[0],\n",
    "                  \",\\n\", communities[1],\n",
    "                  \",\\n\", communities[2])    "
   ]
  }
 ],
 "metadata": {
  "kernelspec": {
   "display_name": "base",
   "language": "python",
   "name": "python3"
  },
  "language_info": {
   "codemirror_mode": {
    "name": "ipython",
    "version": 3
   },
   "file_extension": ".py",
   "mimetype": "text/x-python",
   "name": "python",
   "nbconvert_exporter": "python",
   "pygments_lexer": "ipython3",
   "version": "3.11.4"
  }
 },
 "nbformat": 4,
 "nbformat_minor": 2
}
