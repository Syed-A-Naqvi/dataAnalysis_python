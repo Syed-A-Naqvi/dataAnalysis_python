{
 "cells": [
  {
   "cell_type": "code",
   "execution_count": null,
   "metadata": {},
   "outputs": [],
   "source": [
    "import networkx as nx\n",
    "import matplotlib.pyplot as plt"
   ]
  },
  {
   "cell_type": "code",
   "execution_count": null,
   "metadata": {},
   "outputs": [],
   "source": [
    "G = nx.Graph()\n",
    "G.add_nodes_from([1,2,3,4,5,6,7])\n",
    "G.add_edges_from([(3,6),(1,5),(5,4)])\n",
    "pos = {1: (1, 0.4), 2: (0.5, 0.9), 3: (0, 0.4), 4: (0.2, -0.3), 5: (0.8, -0.3), 6: (0.5, 0.25)}\n",
    "plt.figure(figsize=(4,4))\n",
    "nx.draw(G, pos=pos, node_size=500, with_labels=True, node_color='pink', font_size=12, font_weight='bold')"
   ]
  },
  {
   "cell_type": "code",
   "execution_count": null,
   "metadata": {},
   "outputs": [],
   "source": [
    "import networkx as nx\n",
    "import matplotlib.pyplot as plt\n",
    "from IPython.display import Image\n",
    "\n",
    "H = nx.MultiDiGraph() # Use a MultiDiGraph instead of a DiGraph\n",
    "H.add_nodes_from([1,2,3,4,5,6])\n",
    "H.add_weighted_edges_from([(6,1,2), (6,2,1), (6,3,3), (6,4,1),\n",
    "                           (1,2,1),\n",
    "                           (2,3,2),\n",
    "                           (4,2,1),(4,5,1)])\n",
    "# Add two edges between 5 and 6 with different keys and weights\n",
    "H.add_edge(5,6,key=0,weight=1) # Add a key parameter to distinguish the edges\n",
    "H.add_edge(6,5,key=1,weight=1)\n",
    "\n",
    "pos = {6: (0, 0), 1: (0.3, 0.3), 2: (0.9, 0.3), 3: (1.2, 0), 4: (0.9, -0.3), 5: (0.3, -0.3)}\n",
    "\n",
    "# Use connectionstyle parameter to adjust the curvature of the edges\n",
    "nx.draw(H, pos=pos, node_size=500, with_labels=True,\n",
    "        node_color='lightgreen', font_size=12,\n",
    "        font_weight='bold', connectionstyle='arc3, rad = 0.15')\n",
    "\n",
    "# Set the label attribute of the edges to the weight value\n",
    "for edge in H.edges(data=True):\n",
    "    edge[2]['label'] = edge[2]['weight']\n",
    "\n",
    "# Export the graph to dot format and display it as an image\n",
    "p = nx.drawing.nx_pydot.to_pydot(H)\n",
    "p.write_png('multi.png')\n",
    "Image(filename='multi.png')\n",
    "\n"
   ]
  },
  {
   "cell_type": "code",
   "execution_count": null,
   "metadata": {},
   "outputs": [],
   "source": [
    "import networkx as nx\n",
    "import matplotlib.pyplot as plt\n",
    "\n",
    "H = nx.Graph() # Use a MultiDiGraph instead of a DiGraph\n",
    "H.add_nodes_from([1,2,3,4,5,6])\n",
    "H.add_edges_from([(6,1), (6,2), (6,3), (6,4), (6,5),\n",
    "                  (1,2),\n",
    "                  (2,3), (2,4),\n",
    "                  (4,5)])\n",
    "\n",
    "pos = {6: (0, 0), 1: (0.3, 0.1), 2: (0.9, 0.1), 3: (1.2, 0), 4: (0.9, -0.1), 5: (0.3, -0.1)}\n",
    "\n",
    "plt.figure(figsize=(4,4))\n",
    "# Use connectionstyle parameter to adjust the curvature of the edges\n",
    "nx.draw(H, pos=pos, node_size=500, with_labels=True,\n",
    "        node_color='lightgreen', font_size=12,\n",
    "        font_weight='bold')"
   ]
  },
  {
   "cell_type": "code",
   "execution_count": null,
   "metadata": {},
   "outputs": [],
   "source": [
    "import networkx as nx\n",
    "import matplotlib.pyplot as plt\n",
    "\n",
    "H = nx.Graph() # Use a MultiDiGraph instead of a DiGraph\n",
    "H.add_nodes_from([1,2,3,4,5,6])\n",
    "H.add_edges_from([(1,3), (1,4), (1,5),\n",
    "                  (2,5), (3,5),\n",
    "                  (3,4)])\n",
    "\n",
    "pos = {6: (0, 0), 1: (0.3, 0.1), 2: (0.9, 0.1), 3: (1.2, 0), 4: (0.9, -0.1), 5: (0.3, -0.1)}\n",
    "\n",
    "plt.figure(figsize=(4,4))\n",
    "# Use connectionstyle parameter to adjust the curvature of the edges\n",
    "nx.draw(H, pos=pos, node_size=500, with_labels=True,\n",
    "        node_color='lightblue', font_size=12,\n",
    "        font_weight='bold')"
   ]
  },
  {
   "cell_type": "code",
   "execution_count": null,
   "metadata": {},
   "outputs": [],
   "source": [
    "import networkx as nx\n",
    "import matplotlib.pyplot as plt\n",
    "\n",
    "# Generate a random 4-regular graph on 7 nodes\n",
    "G = nx.random_regular_graph(4, 7)\n",
    "\n",
    "# Draw the graph\n",
    "nx.draw(G, node_size=500, with_labels=False, node_color='red')\n",
    "plt.show()\n"
   ]
  },
  {
   "cell_type": "code",
   "execution_count": null,
   "metadata": {},
   "outputs": [],
   "source": []
  }
 ],
 "metadata": {
  "kernelspec": {
   "display_name": "base",
   "language": "python",
   "name": "python3"
  },
  "language_info": {
   "codemirror_mode": {
    "name": "ipython",
    "version": 3
   },
   "file_extension": ".py",
   "mimetype": "text/x-python",
   "name": "python",
   "nbconvert_exporter": "python",
   "pygments_lexer": "ipython3",
   "version": "3.11.4"
  }
 },
 "nbformat": 4,
 "nbformat_minor": 2
}
