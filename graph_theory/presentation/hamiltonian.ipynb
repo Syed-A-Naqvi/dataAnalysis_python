{
 "cells": [
  {
   "cell_type": "code",
   "execution_count": null,
   "metadata": {},
   "outputs": [],
   "source": [
    "import networkx as nx\n",
    "import numpy as np\n",
    "import matplotlib.pyplot as plt"
   ]
  },
  {
   "cell_type": "code",
   "execution_count": null,
   "metadata": {},
   "outputs": [],
   "source": [
    "#Defining the graph\n",
    "G = nx.Graph()\n",
    "G.add_nodes_from([0,1,2,3,4])\n",
    "G.add_edges_from([(0,1), (0,3), (3,1), (3,4), (1,2), (2,4), (1,4), (3,2)])\n",
    "\n",
    "# #plotting the A\n",
    "pos = nx.spring_layout(G)\n",
    "fig, ax = plt.subplots()\n",
    "nx.draw(G, with_labels=True, edge_color='white', font_color='white')\n",
    "fig.set_facecolor('#333333')\n",
    "fig.set_size_inches((5,3))\n",
    "plt.show()"
   ]
  },
  {
   "cell_type": "code",
   "execution_count": null,
   "metadata": {},
   "outputs": [],
   "source": [
    "print(nx.to_numpy_array(G,dtype=int))"
   ]
  },
  {
   "cell_type": "code",
   "execution_count": null,
   "metadata": {},
   "outputs": [],
   "source": [
    "def isSafe(v, A, path, pos, visited):\n",
    "    if A[path[pos - 1]][v] == 0:\n",
    "        return False\n",
    "    if visited[v]:\n",
    "        return False\n",
    "    return True\n",
    "\n",
    "def hamCycle(G):\n",
    "    A = nx.to_numpy_array(G, dtype=int) \n",
    "    path = [0]\n",
    "    visited = [False] * len(A)\n",
    "    visited[0] = True\n",
    "    if not FindHamCycle(A, 1, path, visited):\n",
    "        print(\"No Hamiltonian Cycle possible\")\n",
    "\n",
    "def FindHamCycle(A, pos, path, visited):\n",
    "    if pos == len(A):\n",
    "        if A[path[-1]][path[0]] != 0:\n",
    "            path.append(0)\n",
    "            print(\" \".join(map(str, path)))\n",
    "            path.pop()\n",
    "            return True\n",
    "        else:\n",
    "            return False\n",
    "\n",
    "    found = False\n",
    "    for v in range(len(A)):\n",
    "        if isSafe(v, A, path, pos, visited):\n",
    "            path.append(v)\n",
    "            visited[v] = True\n",
    "            if FindHamCycle(A, pos + 1, path, visited):\n",
    "                found = True\n",
    "            visited[v] = False\n",
    "            path.pop()\n",
    "\n",
    "    return found\n",
    "\n",
    "\n",
    "\n",
    "# graph = [\n",
    "#     [0, 1, 1, 0, 0, 1],\n",
    "#     [1, 0, 1, 0, 1, 1],\n",
    "#     [1, 1, 0, 1, 0, 0],\n",
    "#     [0, 0, 1, 0, 1, 0],\n",
    "#     [0, 1, 0, 1, 0, 1],\n",
    "#     [1, 1, 0, 0, 1, 0],\n",
    "# ]\n",
    "hamCycle(G)\n",
    "\n"
   ]
  },
  {
   "cell_type": "code",
   "execution_count": null,
   "metadata": {},
   "outputs": [],
   "source": []
  }
 ],
 "metadata": {
  "kernelspec": {
   "display_name": "base",
   "language": "python",
   "name": "python3"
  },
  "language_info": {
   "codemirror_mode": {
    "name": "ipython",
    "version": 3
   },
   "file_extension": ".py",
   "mimetype": "text/x-python",
   "name": "python",
   "nbconvert_exporter": "python",
   "pygments_lexer": "ipython3",
   "version": "3.11.4"
  }
 },
 "nbformat": 4,
 "nbformat_minor": 2
}
