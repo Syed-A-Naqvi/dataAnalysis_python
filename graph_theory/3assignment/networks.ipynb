{
 "cells": [
  {
   "cell_type": "code",
   "execution_count": null,
   "metadata": {},
   "outputs": [],
   "source": [
    "import numpy as np\n",
    "import networkx as nx\n",
    "import matplotlib.pyplot as plt\n",
    "import math\n",
    "\n",
    "def avg(l):\n",
    "    summ = 0\n",
    "    for i in l:\n",
    "        summ += i\n",
    "    return summ/len(l)"
   ]
  },
  {
   "cell_type": "code",
   "execution_count": null,
   "metadata": {},
   "outputs": [],
   "source": [
    "# Create an empty undirected graph\n",
    "G = nx.Graph()\n",
    "# Add edges along with their weights (each tuple represents an edge: (node1, node2, weight))\n",
    "edges = [(1, 2, 45), (1, 3, 20), (1, 4, 25), (2, 4, 5), (3, 4, 10),\n",
    "         (4, 5, 10), (5, 6, 35), (5, 10, 5), (6, 10, 20), (6, 7, 15), (7, 8, 30),\n",
    "         (7, 9, 5), (9, 10, 10)]\n",
    "plt.figure(figsize=(10,3))\n",
    "# Add all edges to the graph at once\n",
    "G.add_weighted_edges_from(edges)\n",
    "# Draw the graph (with labels)\n",
    "pos = nx.spring_layout(G)  # positions for all nodes\n",
    "nx.draw(G, pos, with_labels=True)\n",
    "# Draw the edge labels (weights)\n",
    "edge_labels = nx.get_edge_attributes(G, 'weight')\n",
    "nx.draw_networkx_edge_labels(G, pos, edge_labels=edge_labels)\n",
    "plt.show()\n"
   ]
  },
  {
   "cell_type": "code",
   "execution_count": null,
   "metadata": {},
   "outputs": [],
   "source": [
    "# This function iterates through all the nodes in the network\n",
    "# It then sums the weights of all incident edges for each node\n",
    "# if maximum=True, return maximum of all such sums and a list of corresponding nodes \n",
    "# if maximum=False, return minmum of all such sums and list of corresponding nodes\n",
    "def  node_strength(G, maximum=True):    \n",
    "    \n",
    "    # Get the nodes and their strengths\n",
    "    strengths = G.degree(weight='weight')\n",
    "    \n",
    "    if(maximum == True):\n",
    "        # Find the node(s) with the maximum strength\n",
    "        max_strength = max(strengths, key=lambda x: x[1])[1]\n",
    "        max_nodes = [node for node, strength in strengths if strength == max_strength]        \n",
    "        return (max_strength, max_nodes)\n",
    "    \n",
    "    else:\n",
    "        # Find the node(s) with the minimum strength\n",
    "        min_strength = min(strengths, key=lambda x: x[1])[1]\n",
    "        min_nodes = [node for node, strength in strengths if strength == min_strength]\n",
    "        return (min_strength, min_nodes)\n",
    "    \n",
    "print('maximum node strength: ', node_strength(G,maximum=True)[0],\n",
    "      ' node(s) with maximum strength: ', node_strength(G,maximum=True)[1])\n",
    "print('minimum node strength: ', node_strength(G,maximum=False)[0],\n",
    "      ' node(s) with minimum strength: ', node_strength(G,maximum=False)[1])"
   ]
  },
  {
   "cell_type": "code",
   "execution_count": null,
   "metadata": {},
   "outputs": [],
   "source": [
    "import copy\n",
    "H = copy.deepcopy(G)\n",
    "#removing weights\n",
    "for n in H.edges(data=True):\n",
    "    if 'weight' in n[2]:\n",
    "        del n[2]['weight']\n",
    "for node in H.nodes():\n",
    "    print('Node: ', node,\n",
    "          ' Closeness Centrality: ', nx.closeness_centrality(G, node))"
   ]
  },
  {
   "cell_type": "code",
   "execution_count": null,
   "metadata": {},
   "outputs": [],
   "source": [
    "J = copy.deepcopy(G)\n",
    "for u, v, d in J.edges(data=True):\n",
    "    d['weight'] = round((1/d['weight']),4)\n",
    "plt.figure(figsize=(8,4))\n",
    "# Draw the graph (with labels)\n",
    "pos = nx.spring_layout(J)  # positions for all nodes\n",
    "nx.draw(G, pos, with_labels=True)\n",
    "# Draw the edge labels (weights)\n",
    "edge_labels = nx.get_edge_attributes(J, 'weight')\n",
    "nx.draw_networkx_edge_labels(G, pos, edge_labels=edge_labels)\n",
    "plt.show()"
   ]
  },
  {
   "cell_type": "code",
   "execution_count": null,
   "metadata": {},
   "outputs": [],
   "source": [
    "centralities = nx.closeness_centrality(J,distance='weight')\n",
    "centralities = sorted(centralities.items(), key=lambda x: x[1], reverse=True)\n",
    "\n",
    "print('Closeness centralities of nodes in descending order:')\n",
    "for i in centralities:\n",
    "    print(\"Node: \", i[0], 'Closeness Centrailty: ', i[1])"
   ]
  },
  {
   "cell_type": "code",
   "execution_count": null,
   "metadata": {},
   "outputs": [],
   "source": [
    "# Creating 100 G(n,p) random graphs for some fixed n, p values\n",
    "# and storing the number of edges, avg degree, transitivity and\n",
    "# diameter of each graph in a list of tuples\n",
    "\n",
    "n = 60\n",
    "p = (1/25)\n",
    "graphs = []\n",
    "\n",
    "for i in range (1,101):\n",
    "    # creating a new random G(n,p) graph\n",
    "    G = nx.gnp_random_graph(n,p)\n",
    "    # storing the number of edges\n",
    "    edges = len(G.edges)\n",
    "    # storing the average degree of each graph\n",
    "    avg_deg = sum(dict(G.degree()).values())/len(G)\n",
    "    # storing the transitivity of each graph\n",
    "    transitivity = nx.transitivity(G)\n",
    "    # storing the maximum of the diameters of each component of the graph\n",
    "    diameter = max([nx.diameter(G.subgraph(c)) for c in nx.connected_components(G)])\n",
    "    # appending all graph statistics to our tuple list\n",
    "    graphs.append((edges, avg_deg, transitivity, diameter))\n"
   ]
  },
  {
   "cell_type": "code",
   "execution_count": null,
   "metadata": {},
   "outputs": [],
   "source": [
    "cal_avg_edges = round(sum([graphs[i][0] for i in range(0, len(graphs))]) / len(graphs),2)\n",
    "print('expected number of edges: ', round(((n*(n-1))/2)*p,2),\n",
    "      ', calculated average number of edges: ', cal_avg_edges)\n",
    "\n",
    "cal_avg_deg = round(sum([graphs[i][1] for i in range(0, len(graphs))]) / len(graphs),2)\n",
    "print('expected average degree: ', round(((n-1)*p),2),\n",
    "      ', calculated average degree: ', cal_avg_deg)\n",
    "\n",
    "cal_avg_transitvity = round(sum([graphs[i][2] for i in range(0, len(graphs))]) / len(graphs),2)\n",
    "print('expected transitivity: ', round(p,2),\n",
    "      ', calculated average transitivity: ', cal_avg_transitvity)\n",
    "\n",
    "cal_avg_diameter = round(sum([graphs[i][3] for i in range(0, len(graphs))]) / len(graphs),2)\n",
    "print(f'expected diameter is on the order of ln({n}): ', round(math.log(n),2),\n",
    "      ', calculated average diameter: ', cal_avg_diameter)\n"
   ]
  },
  {
   "cell_type": "code",
   "execution_count": null,
   "metadata": {},
   "outputs": [],
   "source": [
    "y_E = [graphs[i][0] for i in range(0,100)]\n",
    "y_AD = [graphs[i][1] for i in range(0,100)]\n",
    "y_T = [graphs[i][2] for i in range(0,100)]\n",
    "y_D = [graphs[i][3] for i in range(0,100)]"
   ]
  },
  {
   "cell_type": "code",
   "execution_count": null,
   "metadata": {},
   "outputs": [],
   "source": [
    "# histogram plotting the distrbution of the number of edges\n",
    "plt.hist(y_E)\n",
    "plt.xlabel('number of edges')\n",
    "plt.ylabel('frequency')\n",
    "plt.title('Distribution of # of Edges in 100 G(n,p) Random Graphs\\nwith n=60 and p = 1/25')\n",
    "plt.show()"
   ]
  },
  {
   "cell_type": "code",
   "execution_count": null,
   "metadata": {},
   "outputs": [],
   "source": [
    "# histogram plotting the distrbution of the average degrees\n",
    "plt.hist(y_AD)\n",
    "plt.xlabel('average degree')\n",
    "plt.ylabel('frequency')\n",
    "plt.title('Distribution of the Average Degrees of 100 G(n,p) Random Graphs\\nwith n=60 and p = 1/25')\n",
    "plt.show()"
   ]
  },
  {
   "cell_type": "code",
   "execution_count": null,
   "metadata": {},
   "outputs": [],
   "source": [
    "# histogram plotting the distrbution of the transitivities\n",
    "plt.hist(y_T)\n",
    "plt.xlabel('transitivity')\n",
    "plt.ylabel('frequency')\n",
    "plt.title('Distribution of Transitivities of 100 G(n,p) Random Graphs\\nwith n=60 and p = 1/25')\n",
    "plt.show()"
   ]
  },
  {
   "cell_type": "code",
   "execution_count": null,
   "metadata": {},
   "outputs": [],
   "source": [
    "# histogram plotting the distrbution of the diameters\n",
    "plt.hist(y_D)\n",
    "plt.xlabel('diameter')\n",
    "plt.ylabel('frequency')\n",
    "plt.title('Distribution of Diameters of 100 G(n,p) Random Graphs\\nwith n=60 and p = 1/25')\n",
    "plt.show()"
   ]
  }
 ],
 "metadata": {
  "kernelspec": {
   "display_name": "base",
   "language": "python",
   "name": "python3"
  },
  "language_info": {
   "codemirror_mode": {
    "name": "ipython",
    "version": 3
   },
   "file_extension": ".py",
   "mimetype": "text/x-python",
   "name": "python",
   "nbconvert_exporter": "python",
   "pygments_lexer": "ipython3",
   "version": "3.11.4"
  }
 },
 "nbformat": 4,
 "nbformat_minor": 2
}
