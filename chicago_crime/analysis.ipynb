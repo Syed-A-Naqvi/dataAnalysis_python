{
 "cells": [
  {
   "cell_type": "markdown",
   "metadata": {},
   "source": [
    "## Exploratory Data Analysis of Crime in Chicago\n",
    "### <span style=\"color:#95B\">*Understanding the relationship between time of day, location, and type of crime commited between the years of 2012 - 2017 in Chicago, IL.*</span>"
   ]
  },
  {
   "cell_type": "markdown",
   "metadata": {},
   "source": [
    "Often referred to in pop-culture as \"Chiraq\", a play on words referring to levels of violence experienced in the Second Persian Gulf War in Iraq; Chicago has some of the highest crime rates across the United States. Being that crimes can vary among a wide array of categories, it is likely that the occurence frequencies of certain crimes may be affected by parameters such as location or time of day. It is imperative to gain a better understanding of high risk locations and times of day so that civillians, law enforcement and goverments are able to make better decisions aimed at improving overall inhabitant safety.\n",
    "\n",
    "In this exploratory analysis I will analyze a crime dataset obtained from Kaggle.com in an attempt to gain a better understanding about the relationship between types of crime and how their occurances vary with time and place. The conclusions drawn from this analysis will lead to better decision making regarding day-to-day life for the inhabitants of Chicago."
   ]
  },
  {
   "cell_type": "markdown",
   "metadata": {},
   "source": [
    "## Methods\n",
    "### Data Colleciton"
   ]
  },
  {
   "cell_type": "markdown",
   "metadata": {},
   "source": [
    "This dataset was aquired from [Kaggle](https://www.kaggle.com/code/fahd09/eda-of-crime-in-chicago-2005-2016), a subsidiary of Google LLC that serves as an online data scientist and machine learning practitioner community as well as a repository of published data sets [1]. I will only be analyzing the csv file for data from 2012 - 2017. "
   ]
  },
  {
   "cell_type": "code",
   "execution_count": null,
   "metadata": {},
   "outputs": [],
   "source": [
    "# Importing necessary libraries and loading data\n",
    "import datetime as dt\n",
    "import pandas as pd\n",
    "import numpy as np\n",
    "import matplotlib as plt\n",
    "\n",
    "data_filename = \"./Chicago_Crimes_2012_to_2017.csv\"\n",
    "crime_data = pd.read_csv(data_filename)"
   ]
  },
  {
   "cell_type": "markdown",
   "metadata": {},
   "source": [
    "### Data Cleaning"
   ]
  },
  {
   "cell_type": "markdown",
   "metadata": {},
   "source": [
    "This dataset contains numerous colums that are irrelevant for the purposes of this exploratory analysis. I will remove unecessary columns and rename relevant columns so that they are more understandable. Additionally, rows containing missing data and duplicate crime entries are also removed. I will also be converting the 'Date' column from containing strings to values of the datetime object type so that they are easier to work with. "
   ]
  },
  {
   "cell_type": "code",
   "execution_count": null,
   "metadata": {},
   "outputs": [],
   "source": [
    "# Dropping all rows with missing data\n",
    "crime_data = crime_data.dropna(axis=0)\n",
    "\n",
    "# Removing all duplicate row entries\n",
    "crime_data.drop_duplicates(subset=['ID',\"Case Number\"], keep=\"first\", inplace=True)\n",
    "\n",
    "# Removing uneeded columns\n",
    "crime_data = crime_data.drop(['Unnamed: 0', 'ID', 'Case Number', 'Block', 'IUCR', 'Description', \n",
    "                     'Ward', 'Community Area', 'FBI Code' , 'X Coordinate', 'Y Coordinate',\n",
    "                     'Year', 'Updated On', 'Latitude', 'Longitude', 'Location','Beat',\n",
    "                     'District', 'Arrest', 'Domestic'], axis=1)\n",
    "\n",
    "# Editing Date column to convert datetime strings to pandas datetime objects\n",
    "crime_data['Date'] = pd.to_datetime(crime_data.Date, format='%m/%d/%Y %I:%M:%S %p')\n",
    "\n",
    "# Renaming cloumns\n",
    "crime_data.rename(columns = {'Primary Type':'Crime Type', 'Location Description':'Location'}, inplace = True)"
   ]
  },
  {
   "cell_type": "code",
   "execution_count": null,
   "metadata": {},
   "outputs": [],
   "source": [
    "crime_data"
   ]
  },
  {
   "cell_type": "markdown",
   "metadata": {},
   "source": [
    "## Exploratory Analysis and Visualization\n",
    "### Distribution of Crimes by Type"
   ]
  },
  {
   "cell_type": "markdown",
   "metadata": {},
   "source": [
    "Let us first explore the distribution of the occurence frequency of each type of crime between the years of 2012 and 2017. "
   ]
  },
  {
   "cell_type": "code",
   "execution_count": null,
   "metadata": {},
   "outputs": [],
   "source": [
    "# Finding the count of all crime types between the years of 2012 and 2017\n",
    "crime_counts = pd.Series(crime_data.groupby(['Crime Type']).size())\n",
    "crime_counts = crime_counts.sort_values(ascending=False, kind='quicksort')\n",
    "\n",
    "# Creating a histogram of the distribution\n",
    "crime_counts.plot(kind='bar', figsize=(13,5), ylabel=\"Count (Thousands)\", title=\"Amount of Crimes by Type\")"
   ]
  },
  {
   "cell_type": "markdown",
   "metadata": {},
   "source": [
    "We can see from the above distribution that the majority of crimes types are theft and battery.\n",
    "\n",
    "Next, let us determine the crime type totals in terms of percentage. We can view the percentages in table formate to get a better understanding of the figures."
   ]
  },
  {
   "cell_type": "code",
   "execution_count": null,
   "metadata": {},
   "outputs": [],
   "source": [
    "# Percentage of crimes committed by type\n",
    "crimePercentages = pd.Series(100*(crime_data.groupby('Crime Type').size()/crime_data.groupby('Crime Type').size().sum()))\n",
    "crimePercentages = crimePercentages.sort_values(ascending=False)\n",
    "crimePercentages = pd.DataFrame(crimePercentages, columns=['Percentage']).reset_index()\n",
    "crimePercentages"
   ]
  },
  {
   "cell_type": "markdown",
   "metadata": {},
   "source": [
    "Let us consider only the top 10 types of crime by percentage."
   ]
  },
  {
   "cell_type": "code",
   "execution_count": null,
   "metadata": {},
   "outputs": [],
   "source": [
    "crimePercentages = crimePercentages.iloc[0:10]\n",
    "print('-------------------------------\\nThese crime types account for the top ',\n",
    "      round(crimePercentages['Percentage'].sum(), 2), '% of all crimes commited.\\n-------------------------------', sep=\"\" )\n",
    "\n",
    "crimePercentages"
   ]
  },
  {
   "cell_type": "markdown",
   "metadata": {},
   "source": [
    "We can see again that theft and battery again make up the mojarity of committed crimes at ~22.7% and ~18.26% respectively.\n",
    "\n",
    "Here is a graphical comparison view of the types of crimes that make up the top 92.01% of all crimes committed:"
   ]
  },
  {
   "cell_type": "code",
   "execution_count": null,
   "metadata": {},
   "outputs": [],
   "source": [
    "crimePercentages.plot(kind=\"bar\", x='Crime Type', figsize=(13,5), ylabel=\"Count (Percentage)\", title=\"Percentage of Crimes by Type\")\n"
   ]
  },
  {
   "cell_type": "markdown",
   "metadata": {},
   "source": [
    "We can now further analyze the top ~92% of crime types by determining the percentage breakdown for the locations where these crimes occur."
   ]
  },
  {
   "cell_type": "code",
   "execution_count": null,
   "metadata": {},
   "outputs": [],
   "source": [
    "#we are retrieving only those columns that correspond to the top 10 ~92% of crimes\n",
    "crime_locations = crime_data.loc[crime_data['Crime Type'].isin(crimePercentages['Crime Type']), :]\n",
    "crime_locations.drop('Date', axis=1)\n",
    "\n",
    "sum = crime_locations.groupby('Location').size().sum()\n",
    "\n",
    "locationPercentages = pd.Series(round(100*(crime_locations.groupby('Location').size()/sum), 2)).sort_values(ascending=False)\n",
    "locationPercentages = pd.DataFrame(locationPercentages, columns=['Percentage']).reset_index()\n",
    "print(\"Here we can see the percentage of occurence of the top ~92% of crime types at each given location:\")\n",
    "locationPercentages\n"
   ]
  },
  {
   "cell_type": "markdown",
   "metadata": {},
   "source": [
    "It appears that the majority of these crimes tend to occur on the street, in residences, in apartments and on the sidewalk.\n",
    "\n",
    "We will now consider the top 10 most at risk locations:"
   ]
  },
  {
   "cell_type": "code",
   "execution_count": null,
   "metadata": {},
   "outputs": [],
   "source": [
    "locationPercentages = locationPercentages.iloc[0:10]\n",
    "total = round(locationPercentages['Percentage'].sum(), 2)\n",
    "print(f\"The following locations in the city account for {total}% out of the top ~92% of crime types committed in Chicago:\")\n",
    "locationPercentages"
   ]
  },
  {
   "cell_type": "markdown",
   "metadata": {},
   "source": [
    "A graphical representation of the most at-risk locations for the top ~92% of crime types:"
   ]
  },
  {
   "cell_type": "code",
   "execution_count": null,
   "metadata": {},
   "outputs": [],
   "source": [
    "locationPercentages.plot(kind=\"bar\", x = 'Location', figsize=(13,5), ylabel=\"Count (Percentage)\", title=\"Percentage of Most Common Crimes Committed by Location\")"
   ]
  },
  {
   "cell_type": "markdown",
   "metadata": {},
   "source": [
    "We will now round the time of occurence of each of the the top ten crime types to the nearest hour and create a heatmap showcasing the most at-risk time of day for a given crime type."
   ]
  },
  {
   "cell_type": "code",
   "execution_count": null,
   "metadata": {},
   "outputs": [],
   "source": [
    "#rounding time of crime committed to the nearest hour \n",
    "def rounder(t):\n",
    "    if t.minute >= 30:\n",
    "        if t.hour == 23:\n",
    "            return t.replace(second=0, microsecond=0, minute=0, hour=0)\n",
    "        return t.replace(second=0, microsecond=0, minute=0, hour=t.hour+1)\n",
    "    else:\n",
    "        return t.replace(second=0, microsecond=0, minute=0)\n",
    "\n",
    "crime_data['Date'] = [rounder(dt.datetime.time(i)).hour for i in crime_data.Date]\n",
    "crime_data"
   ]
  },
  {
   "cell_type": "markdown",
   "metadata": {},
   "source": [
    "Removing all but the top ten previously determined crime types:"
   ]
  },
  {
   "cell_type": "code",
   "execution_count": null,
   "metadata": {},
   "outputs": [],
   "source": [
    "crimeTime = crime_data.loc[crime_data['Crime Type'].isin(crimePercentages['Crime Type'])]\n",
    "crimeTime\n"
   ]
  },
  {
   "cell_type": "markdown",
   "metadata": {},
   "source": [
    "Using the top 10 crime types and their newly calculated approximate times of occurence, we are going to generate a heatmap that will provide a good visual display of the most at-risk times of day for each given crime type. "
   ]
  },
  {
   "cell_type": "code",
   "execution_count": null,
   "metadata": {},
   "outputs": [],
   "source": [
    "from matplotlib import colors\n",
    "\n",
    "rows = { crime : [0 for _ in range(24)] for crime in crimeTime['Crime Type'] }\n",
    "\n",
    "vals = crimeTime.groupby(['Crime Type', 'Date']).size()\n",
    "\n",
    "for key, value in crimeTime.groupby(['Crime Type', 'Date']):\n",
    "\n",
    "    rows[key[0]][key[1]] = vals[key[0], key[1]]\n",
    "    \n",
    "\n",
    "index   = crimeTime['Crime Type'].unique()\n",
    "\n",
    "columns = [i for i in range(24)]\n",
    "\n",
    "df = pd.DataFrame(rows, index=index, columns=columns)\n",
    "\n",
    "for key, value in rows.items():\n",
    "    \n",
    "    for index, count in enumerate(value):\n",
    "        \n",
    "        df[index][key] = count\n",
    "\n",
    "\n",
    "def background_gradient(s, m=None, M=None, cmap='Greys', low=0, high=0):\n",
    "\n",
    "    if m is None:\n",
    "        m = s.min().min()\n",
    "    if M is None:\n",
    "        M = s.max().max()\n",
    "    rng = M - m\n",
    "    norm = colors.Normalize(m - (rng * low),\n",
    "                            M + (rng * high))\n",
    "    normed = s.apply(norm)\n",
    "\n",
    "    cm = plt.cm.get_cmap(cmap)\n",
    "    c = normed.applymap(lambda x: colors.rgb2hex(cm(x)))\n",
    "    \n",
    "    def hex_to_rgb(hex):\n",
    "        return (int(hex[0:2], 16), int(hex[2:4], 16), int(hex[4:6], 16))\n",
    "    \n",
    "    def rgb_to_hex(r, g, b):\n",
    "        return ('#{:X}{:X}{:X}').format(r, g, b)\n",
    "      \n",
    "    def colorit(x):\n",
    "        r, g, b = hex_to_rgb(x[1:])\n",
    "        \n",
    "        if (r*0.299 + g*0.587 + b*0.114) > 186: \n",
    "            fore = \"#000000\"\n",
    "        else:\n",
    "            fore = \"#ffffff\"\n",
    "        \n",
    "        return 'color : {}; background-color: {}'.format(fore, x)\n",
    "    \n",
    "    ret = c.applymap(colorit)\n",
    "    return ret\n",
    "\n",
    "\n",
    "df.style.apply(background_gradient, axis=None)"
   ]
  },
  {
   "cell_type": "markdown",
   "metadata": {},
   "source": [
    "From the above heatmap we can see the darker regions representing a higher crimrate at that time of day for the given crime type. It appears as though theft is most common anywhere from 12pm to around 8pm while battery seems to be more distributed but still occurring more during pm times."
   ]
  },
  {
   "cell_type": "markdown",
   "metadata": {},
   "source": [
    "## Discussion"
   ]
  },
  {
   "cell_type": "markdown",
   "metadata": {},
   "source": [
    "In this exploratory analysis, I attempted to gain a better understanding of the crimes committed in the city Chicago between the years of 2012 and 2017. I wanted to determine what the relationships were between the types of crime, time of day and location. From the analyzed data and models we can see that theft and battery make up the majority of crime types. It also seems that the most at-risk locations for the common crime types are in the open; out on the street and on sidewalks as well as in higher conjested areas such as residential appartments. Finally, the times of day for the occurence of the top 10 most common crimes is in the pm times from about 12pm to 10pm. Being that one of the more common types of crimes were things such as theft and robbery, people would be safer if they travel light and avoid being alone in public between pm times."
   ]
  },
  {
   "cell_type": "markdown",
   "metadata": {},
   "source": [
    "## References\n",
    "\n",
    "1. Source data - https://www.kaggle.com/datasets/currie32/crime_data-in-chicago?resource=downloadselect=Chicago_crime_data_2001_to_2004.csv\n",
    "2. Pandas for data manipulation\n",
    "3. Seaborn for data viz\n",
    "4. Matplotlib for data viz\n",
    "5. datetime for formatting"
   ]
  }
 ],
 "metadata": {
  "kernelspec": {
   "display_name": "base",
   "language": "python",
   "name": "python3"
  },
  "language_info": {
   "codemirror_mode": {
    "name": "ipython",
    "version": 3
   },
   "file_extension": ".py",
   "mimetype": "text/x-python",
   "name": "python",
   "nbconvert_exporter": "python",
   "pygments_lexer": "ipython3",
   "version": "3.9.13"
  },
  "vscode": {
   "interpreter": {
    "hash": "55c1feb0b5714a9c07eb75dd1aa1721b81bc6332dd76e5272ce4feabb71e0803"
   }
  }
 },
 "nbformat": 4,
 "nbformat_minor": 2
}
